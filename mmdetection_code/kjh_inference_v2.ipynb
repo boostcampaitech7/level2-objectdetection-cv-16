{
 "cells": [
  {
   "cell_type": "code",
   "execution_count": 1,
   "id": "3fd75793",
   "metadata": {},
   "outputs": [],
   "source": [
    "import mmcv\n",
    "from mmengine.config import Config\n",
    "from mmdet.registry import DATASETS\n",
    "from mmdet.apis import init_detector, inference_detector\n",
    "from mmdet.utils import register_all_modules\n",
    "import torch\n",
    "import os\n",
    "import pandas as pd\n",
    "from pycocotools.coco import COCO\n",
    "import numpy as np"
   ]
  },
  {
   "cell_type": "code",
   "execution_count": 2,
   "id": "9116bc81",
   "metadata": {},
   "outputs": [],
   "source": [
    "# 모든 모듈 등록\n",
    "register_all_modules()"
   ]
  },
  {
   "cell_type": "code",
   "execution_count": 3,
   "id": "edda58ea",
   "metadata": {},
   "outputs": [],
   "source": [
    "classes = (\"General trash\", \"Paper\", \"Paper pack\", \"Metal\", \"Glass\", \n",
    "           \"Plastic\", \"Styrofoam\", \"Plastic bag\", \"Battery\", \"Clothing\")\n",
    "\n",
    "# config file 들고오기\n",
    "cfg = Config.fromfile('/data/ephemeral/home/kjh/mmdetection/configs/faster_rcnn/faster-rcnn_r50_fpn_1x_coco.py')\n",
    "\n",
    "root='../dataset/'\n",
    "\n",
    "# dataset config 수정\n",
    "cfg.test_dataloader = dict(\n",
    "    batch_size=1,\n",
    "    num_workers=2,\n",
    "    persistent_workers=True,\n",
    "    drop_last=False,\n",
    "    sampler=dict(type='DefaultSampler', shuffle=False),\n",
    "    dataset=dict(\n",
    "        type='CocoDataset',\n",
    "        data_root=root,\n",
    "        ann_file=root+'test.json',\n",
    "        data_prefix=dict(img=''),\n",
    "        test_mode=True,\n",
    "        pipeline=[\n",
    "            dict(type='LoadImageFromFile'),\n",
    "            dict(type='Resize', scale=(512, 512), keep_ratio=True),\n",
    "            dict(type='LoadAnnotations', with_bbox=True),\n",
    "            dict(\n",
    "                type='PackDetInputs',\n",
    "                meta_keys=('img_id', 'img_path', 'ori_shape', 'img_shape', 'scale_factor')\n",
    "            )\n",
    "        ]\n",
    "    )\n",
    ")\n",
    "\n",
    "cfg.test_evaluator = dict(\n",
    "    type='CocoMetric',\n",
    "    ann_file=root + 'test.json',\n",
    "    metric='bbox',\n",
    "    format_only=False\n",
    ")\n",
    "\n",
    "cfg.model.roi_head.bbox_head.num_classes = 10"
   ]
  },
  {
   "cell_type": "code",
   "execution_count": 4,
   "id": "7c8e487e",
   "metadata": {},
   "outputs": [
    {
     "name": "stdout",
     "output_type": "stream",
     "text": [
      "사용 가능한 체크포인트:\n",
      "1. epoch_10.pth\n",
      "2. epoch_12.pth\n",
      "3. epoch_11.pth\n"
     ]
    }
   ],
   "source": [
    "# 체크포인트 디렉토리\n",
    "checkpoint_dir = '/data/ephemeral/home/kjh/mmdetection/work_dirs/faster_rcnn_r50_fpn_1x_trash'\n",
    "\n",
    "# 디렉토리 내의 모든 .pth 파일 찾기\n",
    "checkpoint_files = [f for f in os.listdir(checkpoint_dir) if f.endswith('.pth')]\n",
    "\n",
    "print(\"사용 가능한 체크포인트:\")\n",
    "for i, file in enumerate(checkpoint_files):\n",
    "    print(f\"{i+1}. {file}\")"
   ]
  },
  {
   "cell_type": "code",
   "execution_count": 5,
   "id": "793ee948",
   "metadata": {},
   "outputs": [
    {
     "name": "stdout",
     "output_type": "stream",
     "text": [
      "사용할 체크포인트: /data/ephemeral/home/kjh/mmdetection/work_dirs/faster_rcnn_r50_fpn_1x_trash/epoch_12.pth\n"
     ]
    }
   ],
   "source": [
    "# 사용할 체크포인트 파일 이름 지정\n",
    "selected_checkpoint = 'epoch_12.pth' \n",
    "\n",
    "checkpoint_path = os.path.join(checkpoint_dir, selected_checkpoint)\n",
    "print(f\"사용할 체크포인트: {checkpoint_path}\")\n",
    "\n",
    "if not os.path.exists(checkpoint_path):\n",
    "    raise FileNotFoundError(f\"지정된 체크포인트 파일을 찾을 수 없음: {checkpoint_path}\")"
   ]
  },
  {
   "cell_type": "code",
   "execution_count": 6,
   "id": "b086a8cf",
   "metadata": {},
   "outputs": [
    {
     "name": "stdout",
     "output_type": "stream",
     "text": [
      "Loads checkpoint by local backend from path: /data/ephemeral/home/kjh/mmdetection/work_dirs/faster_rcnn_r50_fpn_1x_trash/epoch_12.pth\n",
      "loading annotations into memory...\n",
      "Done (t=0.01s)\n",
      "creating index...\n",
      "index created!\n"
     ]
    }
   ],
   "source": [
    "# 모델 초기화 및 체크포인트 로드\n",
    "model = init_detector(cfg, checkpoint_path, device='cuda:0')\n",
    "\n",
    "# 테스트 데이터셋 생성\n",
    "dataset = DATASETS.build(cfg.test_dataloader.dataset)\n",
    "\n",
    "# 추론 및 결과 생성\n",
    "results = []\n",
    "for i in range(len(dataset)):\n",
    "    img_path = dataset.get_data_info(i)['img_path']\n",
    "    result = inference_detector(model, img_path)\n",
    "    results.append(result)"
   ]
  },
  {
   "cell_type": "code",
   "execution_count": 8,
   "id": "83b3eae6",
   "metadata": {},
   "outputs": [
    {
     "name": "stdout",
     "output_type": "stream",
     "text": [
      "Annotation file path: /data/ephemeral/home/dataset/test.json\n",
      "loading annotations into memory...\n",
      "Done (t=0.01s)\n",
      "creating index...\n",
      "index created!\n",
      "Processed 4871 predictions\n",
      "First prediction string: 7 0.9996753931045532 215.85044860839844 53.913970947265625 457.0826416015625 494.3774719238281 7 0.9989771842956543 601.9973754882812 525.0150146484375 955.9736938476562 1020.44775390625 7 0.9939602613449097 123.98695373535156 414.270263671875 320.45916748046875 723.0819091796875 7 0.9915015697479248 449.7225341796875 603.190673828125 638.8082275390625 874.396728515625 7 0.9696589708328247 629.268310546875 321.23748779296875 878.060546875 621.3170166015625 1 0.9675265550613403 554.57373046875 118.35907745361328 763.947509765625 362.34375 7 0.9640569090843201 395.7598571777344 197.01260375976562 596.3663940429688 546.0523681640625 7 0.8986942172050476 565.39697265625 337.32818603515625 711.701171875 607.1838989257812 7 0.769944429397583 267.25689697265625 440.28997802734375 430.026123046875 584.2317504882812 1 0.7686309814453125 441.3744812011719 465.0736389160156 562.5524291992188 616.6351928710938 1 0.663328230381012 626.2724609375 168.51620483398438 746.182861328125 338.9522705078125 1 0.3717228174209595 478.768798828125 111.67045593261719 846.7403564453125 433.9931640625 1 0.29055607318878174 30.633506774902344 307.11175537109375 229.42086791992188 448.06549072265625 1 0.2859800457954407 568.0680541992188 147.80340576171875 687.9259643554688 351.1439514160156 5 0.2777822017669678 333.6018981933594 613.1177368164062 453.6111145019531 735.3682250976562 1 0.2748194634914398 559.6491088867188 332.9140319824219 711.8855590820312 602.7276611328125 7 0.2726432979106903 269.08551025390625 420.5450439453125 455.941162109375 723.93115234375 7 0.266602486371994 74.02348327636719 409.8659973144531 482.496337890625 734.8448486328125 5 0.23388731479644775 235.42242431640625 668.7045288085938 298.538330078125 745.3903198242188 1 0.2246948629617691 563.1563720703125 164.53636169433594 887.2025146484375 630.868408203125 7 0.22042067348957062 34.48533630371094 8.964309692382812 414.5577392578125 496.966552734375 1 0.21844659745693207 704.2820434570312 107.76795959472656 900.6986694335938 595.0238647460938 5 0.20008833706378937 316.62359619140625 542.8510131835938 472.70965576171875 742.6990356445312 1 0.19597521424293518 637.3465576171875 247.58590698242188 742.1734619140625 346.4391784667969 7 0.19474220275878906 232.00289916992188 666.1302490234375 301.3577575683594 748.146728515625 7 0.18411359190940857 23.0244140625 401.86663818359375 187.3381805419922 628.8279418945312 1 0.1696392297744751 17.85144805908203 323.326904296875 232.6328125 568.8447875976562 5 0.16818174719810486 338.30657958984375 637.083984375 407.50848388671875 723.01513671875 1 0.16619598865509033 409.0054016113281 430.14691162109375 569.2149047851562 682.9856567382812 1 0.15952563285827637 479.169189453125 595.748046875 581.6268310546875 663.2476806640625 5 0.14792054891586304 296.0052490234375 667.3565673828125 352.78582763671875 748.013916015625 0 0.1386507749557495 341.6842041015625 632.8181762695312 410.77288818359375 722.6497192382812 5 0.13765616714954376 557.995849609375 334.4853515625 718.00341796875 609.5115966796875 7 0.1295100599527359 121.9935302734375 423.19061279296875 190.97222900390625 614.8982543945312 7 0.12781810760498047 537.2158813476562 188.95413208007812 863.5662231445312 622.517333984375 7 0.12630698084831238 22.840911865234375 209.1020965576172 326.7381286621094 717.0390625 1 0.1245584785938263 397.67840576171875 158.29208374023438 590.8594970703125 624.0316162109375 0 0.11261115968227386 332.2482604980469 606.1777954101562 455.9811706542969 734.5139770507812 1 0.10464019328355789 30.363052368164062 410.38873291015625 151.27110290527344 622.6669311523438 1 0.10343436896800995 443.1236267089844 518.3777465820312 560.680419921875 589.7568969726562 5 0.10341986268758774 498.7147521972656 204.0706329345703 583.4664916992188 376.91021728515625 1 0.10322344303131104 635.9456787109375 191.63143920898438 691.6488037109375 331.9381408691406 0 0.10243330150842667 689.2655029296875 336.9752197265625 763.6685791015625 413.661376953125 1 0.0984172523021698 167.28652954101562 373.8307800292969 243.98916625976562 442.3658752441406 5 0.09617572277784348 690.91162109375 337.2138977050781 764.459228515625 413.0455627441406 0 0.0945587158203125 476.31134033203125 582.9647216796875 568.9369506835938 675.6165771484375 1 0.09274854511022568 2.2400131225585938 273.1993408203125 156.01593017578125 630.7560424804688 0 0.09081785380840302 3.0937423706054688 278.2908935546875 153.2442626953125 626.0701293945312 5 0.08484577387571335 258.18603515625 427.8751220703125 437.3638916015625 616.39892578125 0 0.08442430943250656 41.40826416015625 421.2851257324219 158.74310302734375 626.8697509765625 0 0.08251466602087021 234.74441528320312 667.6411743164062 298.1006774902344 746.1779174804688 5 0.0800400823354721 316.7884826660156 546.9817504882812 438.0506896972656 669.9091186523438 7 0.07910402119159698 0.0 297.3182067871094 62.94927215576172 543.0572509765625 1 0.0777747705578804 643.2186279296875 187.3778076171875 729.97509765625 299.2008361816406 5 0.07655904442071915 674.6192016601562 327.34796142578125 787.3110961914062 437.0457763671875 7 0.07568344473838806 176.30059814453125 422.6509094238281 409.501708984375 644.6900024414062 7 0.07522699236869812 121.71565246582031 421.5956115722656 253.3469696044922 560.9397583007812 0 0.06802880018949509 566.5468139648438 326.64324951171875 705.3543090820312 600.9255981445312 7 0.06799715012311935 689.7678833007812 335.32763671875 764.2084350585938 415.23876953125 7 0.06793047487735748 133.0961151123047 431.76715087890625 204.6303253173828 481.50750732421875 1 0.06702056527137756 540.4425048828125 156.04888916015625 725.4190673828125 617.53173828125 5 0.06701973080635071 470.9397888183594 590.88623046875 611.079345703125 868.8697509765625 1 0.0661826804280281 477.6777038574219 576.421630859375 549.3646850585938 651.009033203125 1 0.06600984185934067 404.45562744140625 539.7362670898438 563.1426391601562 653.9309692382812 1 0.06526245176792145 665.5783081054688 302.8154602050781 775.4028930664062 349.5821838378906 1 0.06519972532987595 1.53485107421875 5.380088806152344 442.83685302734375 215.4068603515625 1 0.06471696496009827 469.18878173828125 570.6505126953125 552.3385620117188 605.1309814453125 5 0.06317083537578583 270.6787109375 614.0718383789062 524.9561767578125 745.8041381835938 1 0.062155600637197495 471.50726318359375 619.8045654296875 572.0114135742188 680.0191650390625 1 0.0613047257065773 673.6397094726562 322.2035827636719 778.2024536132812 431.1054992675781 1 0.0601411908864975 542.4827880859375 105.28255462646484 740.895263671875 202.2991943359375 5 0.05845971778035164 204.616455078125 655.4668579101562 339.13629150390625 744.6820678710938 7 0.058079253882169724 673.5778198242188 326.255859375 785.3327026367188 441.893798828125 1 0.057765793055295944 683.2857666015625 336.994384765625 765.5408935546875 404.88018798828125 5 0.055645525455474854 129.93405151367188 433.1507873535156 186.37216186523438 506.2590026855469 7 0.05504078045487404 2.2221908569335938 276.5566711425781 155.03457641601562 628.7757568359375 5 0.05487196892499924 246.44326782226562 661.8211669921875 437.9974670410156 744.9658203125 7 0.054050471633672714 18.38074493408203 328.43255615234375 232.51119995117188 574.1316528320312 5 0.0536540150642395 356.8461608886719 548.2963256835938 427.9101257324219 616.1503295898438 1 0.05333888158202171 0.0 297.19549560546875 62.262062072753906 538.1214599609375 1 0.05303041636943817 572.5942993164062 346.1383972167969 656.9133911132812 582.8453369140625 3 0.05248492956161499 326.77197265625 605.706298828125 466.35736083984375 733.2794189453125 7 0.051541686058044434 394.1470947265625 205.2982177734375 745.122802734375 621.493896484375 1 0.051099568605422974 661.114013671875 256.0851745605469 731.3271484375 325.3347473144531 7 0.05098855122923851 648.11181640625 347.4227294921875 708.8104248046875 594.38916015625 0 0.050249963998794556 405.8695068359375 196.60806274414062 590.4483032226562 578.72900390625 \n",
      "First file name: test/0000.jpg\n"
     ]
    }
   ],
   "source": [
    "# submission 양식에 맞게 output 후처리\n",
    "prediction_strings = []\n",
    "file_names = []\n",
    "\n",
    "# 파일 경로 확인 및 출력\n",
    "ann_file = cfg.test_dataloader.dataset.ann_file\n",
    "if not os.path.isabs(ann_file):\n",
    "    ann_file = os.path.join(root, ann_file)\n",
    "print(f\"Annotation file path: {ann_file}\")\n",
    "\n",
    "if not os.path.exists(ann_file):\n",
    "    raise FileNotFoundError(f\"Annotation file not found: {ann_file}\")\n",
    "\n",
    "#coco = COCO(cfg.test_dataloader.dataset.ann_file)\n",
    "coco = COCO(ann_file)\n",
    "\n",
    "for i, result in enumerate(results):\n",
    "    try:\n",
    "        prediction_string = ''\n",
    "        image_info = coco.loadImgs(coco.getImgIds(imgIds=i))[0]\n",
    "        \n",
    "        if hasattr(result, 'pred_instances'):\n",
    "            bboxes = result.pred_instances.bboxes\n",
    "            scores = result.pred_instances.scores\n",
    "            labels = result.pred_instances.labels\n",
    "            \n",
    "            for label, score, bbox in zip(labels, scores, bboxes):\n",
    "                # 텐서를 파이썬 스칼라로 변환\n",
    "                label = int(label.item())\n",
    "                score = float(score.item())\n",
    "                bbox = [float(coord.item()) for coord in bbox]\n",
    "                prediction_string += f\"{label} {score} {bbox[0]} {bbox[1]} {bbox[2]} {bbox[3]} \"\n",
    "        else:\n",
    "            print(f\"Warning: No pred_instances for image {i}\")\n",
    "        \n",
    "        prediction_strings.append(prediction_string)\n",
    "        file_names.append(image_info['file_name'])\n",
    "    except Exception as e:\n",
    "        print(f\"Error processing result {i}: {e}\")\n",
    "        print(f\"Result content: {result}\")\n",
    "\n",
    "# 결과 출력\n",
    "print(f\"Processed {len(prediction_strings)} predictions\")\n",
    "print(f\"First prediction string: {prediction_strings[0] if prediction_strings else 'None'}\")\n",
    "print(f\"First file name: {file_names[0] if file_names else 'None'}\")"
   ]
  },
  {
   "cell_type": "code",
   "execution_count": 11,
   "id": "0a59eac5",
   "metadata": {},
   "outputs": [
    {
     "name": "stdout",
     "output_type": "stream",
     "text": [
      "                                    PredictionString       image_id\n",
      "0  7 0.9996753931045532 215.85044860839844 53.913...  test/0000.jpg\n",
      "1  5 0.8772043585777283 344.44500732421875 246.10...  test/0001.jpg\n",
      "2  1 0.9861852526664734 80.3682861328125 270.1204...  test/0002.jpg\n",
      "3  9 0.9141060709953308 187.94729614257812 258.96...  test/0003.jpg\n",
      "4  0 0.74819016456604 199.99029541015625 257.9699...  test/0004.jpg\n"
     ]
    }
   ],
   "source": [
    "submission = pd.DataFrame()\n",
    "submission['PredictionString'] = prediction_strings\n",
    "submission['image_id'] = file_names\n",
    "submission.to_csv(os.path.join(checkpoint_dir, f'submission_{os.path.splitext(selected_checkpoint)[0]}.csv'), index=None)\n",
    "print(submission.head())"
   ]
  },
  {
   "cell_type": "code",
   "execution_count": 10,
   "id": "c9f5c2bb",
   "metadata": {},
   "outputs": [
    {
     "name": "stdout",
     "output_type": "stream",
     "text": [
      "        image_id                                   PredictionString\n",
      "0  test/0000.jpg  7 0.9996753931045532 215.85044860839844 53.913...\n",
      "1  test/0001.jpg  5 0.8772043585777283 344.44500732421875 246.10...\n",
      "2  test/0002.jpg  1 0.9861852526664734 80.3682861328125 270.1204...\n",
      "3  test/0003.jpg  9 0.9141060709953308 187.94729614257812 258.96...\n",
      "4  test/0004.jpg  0 0.74819016456604 199.99029541015625 257.9699...\n"
     ]
    }
   ],
   "source": [
    "\"\"\"\n",
    "\n",
    "# DataFrame 생성 시 컬럼 순서 지정\n",
    "submission = pd.DataFrame({\n",
    "    'image_id': file_names,\n",
    "    'PredictionString': prediction_strings\n",
    "})\n",
    "\n",
    "# CSV 파일 저장 시 컬럼 순서 명시\n",
    "submission.to_csv(\n",
    "    os.path.join(checkpoint_dir, f'submission_{os.path.splitext(selected_checkpoint)[0]}.csv'), \n",
    "    index=None, \n",
    "    columns=['image_id', 'PredictionString']\n",
    ")\n",
    "\n",
    "print(submission.head())\n",
    "\n",
    "\"\"\"\n"
   ]
  }
 ],
 "metadata": {
  "kernelspec": {
   "display_name": "base",
   "language": "python",
   "name": "python3"
  },
  "language_info": {
   "codemirror_mode": {
    "name": "ipython",
    "version": 3
   },
   "file_extension": ".py",
   "mimetype": "text/x-python",
   "name": "python",
   "nbconvert_exporter": "python",
   "pygments_lexer": "ipython3",
   "version": "3.10.13"
  }
 },
 "nbformat": 4,
 "nbformat_minor": 5
}

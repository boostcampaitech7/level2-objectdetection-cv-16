{
 "cells": [
  {
   "cell_type": "code",
   "execution_count": 1,
   "metadata": {},
   "outputs": [],
   "source": [
    "import os\n",
    "import json\n",
    "from tqdm import tqdm\n",
    "import pandas as pd\n",
    "from mmdet.apis import init_detector, inference_detector"
   ]
  },
  {
   "cell_type": "code",
   "execution_count": null,
   "metadata": {},
   "outputs": [],
   "source": [
    "root_path = '/data/ephemeral/home/sejongmin/dataset/'\n",
    "json_file_path = 'test.json'"
   ]
  },
  {
   "cell_type": "code",
   "execution_count": 7,
   "metadata": {},
   "outputs": [
    {
     "name": "stdout",
     "output_type": "stream",
     "text": [
      "Loads checkpoint by local backend from path: /data/ephemeral/home/sejongmin/mmdetection/work_dirs/default/epoch_3.pth\n"
     ]
    }
   ],
   "source": [
    "config_file = '/data/ephemeral/home/sejongmin/mmdetection/work_dirs/default/default_config.py'\n",
    "checkpoint_file = '/data/ephemeral/home/sejongmin/mmdetection/work_dirs/default/epoch_3.pth'\n",
    "model = init_detector(config_file, checkpoint_file, device='cuda:0')"
   ]
  },
  {
   "cell_type": "code",
   "execution_count": 13,
   "metadata": {},
   "outputs": [
    {
     "name": "stderr",
     "output_type": "stream",
     "text": [
      "  0%|          | 0/4871 [00:00<?, ?it/s]"
     ]
    },
    {
     "name": "stderr",
     "output_type": "stream",
     "text": [
      "100%|██████████| 4871/4871 [05:16<00:00, 15.38it/s]\n"
     ]
    },
    {
     "data": {
      "text/html": [
       "<div>\n",
       "<style scoped>\n",
       "    .dataframe tbody tr th:only-of-type {\n",
       "        vertical-align: middle;\n",
       "    }\n",
       "\n",
       "    .dataframe tbody tr th {\n",
       "        vertical-align: top;\n",
       "    }\n",
       "\n",
       "    .dataframe thead th {\n",
       "        text-align: right;\n",
       "    }\n",
       "</style>\n",
       "<table border=\"1\" class=\"dataframe\">\n",
       "  <thead>\n",
       "    <tr style=\"text-align: right;\">\n",
       "      <th></th>\n",
       "      <th>PredictionString</th>\n",
       "      <th>image_id</th>\n",
       "    </tr>\n",
       "  </thead>\n",
       "  <tbody>\n",
       "    <tr>\n",
       "      <th>0</th>\n",
       "      <td>7 0.31 94.81 404.34 349.46 702.73 7 0.29 441.0...</td>\n",
       "      <td>test/0000.jpg</td>\n",
       "    </tr>\n",
       "    <tr>\n",
       "      <th>1</th>\n",
       "      <td>1 0.19 367.02 323.83 714.00 673.42 0 0.18 361....</td>\n",
       "      <td>test/0001.jpg</td>\n",
       "    </tr>\n",
       "    <tr>\n",
       "      <th>2</th>\n",
       "      <td>7 0.24 255.12 283.44 898.41 775.71 1 0.21 91.9...</td>\n",
       "      <td>test/0002.jpg</td>\n",
       "    </tr>\n",
       "    <tr>\n",
       "      <th>3</th>\n",
       "      <td>1 0.11 639.29 806.91 1024.00 957.59 7 0.09 629...</td>\n",
       "      <td>test/0003.jpg</td>\n",
       "    </tr>\n",
       "    <tr>\n",
       "      <th>4</th>\n",
       "      <td>1 0.24 251.09 554.71 599.33 744.20 1 0.20 110....</td>\n",
       "      <td>test/0004.jpg</td>\n",
       "    </tr>\n",
       "  </tbody>\n",
       "</table>\n",
       "</div>"
      ],
      "text/plain": [
       "                                    PredictionString       image_id\n",
       "0  7 0.31 94.81 404.34 349.46 702.73 7 0.29 441.0...  test/0000.jpg\n",
       "1  1 0.19 367.02 323.83 714.00 673.42 0 0.18 361....  test/0001.jpg\n",
       "2  7 0.24 255.12 283.44 898.41 775.71 1 0.21 91.9...  test/0002.jpg\n",
       "3  1 0.11 639.29 806.91 1024.00 957.59 7 0.09 629...  test/0003.jpg\n",
       "4  1 0.24 251.09 554.71 599.33 744.20 1 0.20 110....  test/0004.jpg"
      ]
     },
     "execution_count": 13,
     "metadata": {},
     "output_type": "execute_result"
    }
   ],
   "source": [
    "with open(os.path.join(root_path, json_file_path), 'r') as f:\n",
    "    data = json.load(f)\n",
    "\n",
    "prediction_strings = []\n",
    "file_names = []\n",
    "\n",
    "for image_info in tqdm(data['images']):\n",
    "    prediction_string = ''\n",
    "    file_name = image_info['file_name']\n",
    "    \n",
    "    result = inference_detector(model, os.path.join(root_path, file_name))\n",
    "    \n",
    "    bboxes = result.pred_instances.bboxes.cpu().numpy()\n",
    "    scores = result.pred_instances.scores.cpu().numpy()\n",
    "    class_ids = result.pred_instances.labels.cpu().numpy()\n",
    "\n",
    "    # 결과 처리\n",
    "    for i in range(len(scores)):\n",
    "        score = scores[i]\n",
    "        x_min, y_min, x_max, y_max = bboxes[i]\n",
    "        \n",
    "        prediction_string += f'{class_ids[i]} {score:.2f} {x_min:.2f} {y_min:.2f} {x_max:.2f} {y_max:.2f} '\n",
    "    prediction_strings.append(prediction_string)\n",
    "    file_names.append(file_name)\n",
    "\n",
    "submission = pd.DataFrame()\n",
    "submission['PredictionString'] = prediction_strings\n",
    "submission['image_id'] = file_names\n",
    "\n",
    "output_path = './work_dirs/default'\n",
    "os.makedirs(output_path, exist_ok=True) \n",
    "submission.to_csv(os.path.join(output_path, 'submission.csv'), index=False)\n",
    "submission.head()"
   ]
  }
 ],
 "metadata": {
  "kernelspec": {
   "display_name": "base",
   "language": "python",
   "name": "python3"
  },
  "language_info": {
   "codemirror_mode": {
    "name": "ipython",
    "version": 3
   },
   "file_extension": ".py",
   "mimetype": "text/x-python",
   "name": "python",
   "nbconvert_exporter": "python",
   "pygments_lexer": "ipython3",
   "version": "3.10.13"
  }
 },
 "nbformat": 4,
 "nbformat_minor": 2
}

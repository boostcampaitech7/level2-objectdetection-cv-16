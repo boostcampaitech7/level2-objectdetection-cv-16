{
 "cells": [
  {
   "cell_type": "markdown",
   "metadata": {},
   "source": [
    "# 이상치: Bbox의 크기 비율 기준"
   ]
  },
  {
   "cell_type": "code",
   "execution_count": 1,
   "metadata": {},
   "outputs": [],
   "source": [
    "import json\n",
    "import os"
   ]
  },
  {
   "cell_type": "code",
   "execution_count": 2,
   "metadata": {},
   "outputs": [],
   "source": [
    "new_json_name = 'hobbang2.json' # 새로 만들 json 파일명\n",
    "max_=0.49\n",
    "min_=0.0001"
   ]
  },
  {
   "cell_type": "code",
   "execution_count": 3,
   "metadata": {},
   "outputs": [
    {
     "name": "stdout",
     "output_type": "stream",
     "text": [
      "비율이 0.49 이상인 Bbox의 개수: 484개\n",
      "비율이 0.0001 이하인 Bbox의 개수: 3개\n"
     ]
    }
   ],
   "source": [
    "big_list=[]\n",
    "small_list=[]\n",
    "\n",
    "# json 파일 열기\n",
    "with open('../dataset/train.json') as f:\n",
    "    json_data = json.load(f)\n",
    "json_data['annotations'][:2]\n",
    "\n",
    "# 개수 찾기\n",
    "for annot in json_data['annotations']:\n",
    "    if annot['area'] >= 1024**2*max_:\n",
    "        big_list.append(annot['id'])\n",
    "    if annot['area'] <= 1024**2*min_:\n",
    "        small_list.append(annot['id'])\n",
    "print(f'비율이 {max_} 이상인 Bbox의 개수: {len(big_list)}개')\n",
    "print(f'비율이 {min_} 이하인 Bbox의 개수: {len(small_list)}개')"
   ]
  },
  {
   "cell_type": "code",
   "execution_count": 4,
   "metadata": {},
   "outputs": [],
   "source": [
    "# json 파일 생성\n",
    "new_json = {\n",
    "    'info': json_data['info'], \n",
    "    'licenses': json_data['licenses'], \n",
    "    'categories': json_data['categories'], \n",
    "    'images': json_data['images'],\n",
    "    'annotations': []\n",
    "}\n",
    "\n",
    "for annot in json_data['annotations']:\n",
    "    if annot['id'] in big_list or annot['id'] in small_list:\n",
    "        continue\n",
    "    else:\n",
    "        new_json['annotations'].append(annot)\n",
    "\n",
    "with open(os.path.join('../dataset/', new_json_name), 'w') as f:\n",
    "    f.write(json.dumps(new_json, ensure_ascii=False, indent='\\t'))\n",
    "f.close()"
   ]
  },
  {
   "cell_type": "code",
   "execution_count": 5,
   "metadata": {},
   "outputs": [
    {
     "name": "stdout",
     "output_type": "stream",
     "text": [
      "23144 487 22657\n"
     ]
    }
   ],
   "source": [
    "# 확인확인\n",
    "with open(os.path.join('../dataset', new_json_name)) as f:\n",
    "    check=json.load(f)\n",
    "f.close()\n",
    "print(len(json_data['annotations']), len(small_list)+len(big_list), len(check['annotations']))"
   ]
  },
  {
   "cell_type": "code",
   "execution_count": 6,
   "metadata": {},
   "outputs": [
    {
     "data": {
      "text/plain": [
       "22657"
      ]
     },
     "execution_count": 6,
     "metadata": {},
     "output_type": "execute_result"
    }
   ],
   "source": [
    "23144-487"
   ]
  },
  {
   "cell_type": "code",
   "execution_count": null,
   "metadata": {},
   "outputs": [],
   "source": []
  }
 ],
 "metadata": {
  "kernelspec": {
   "display_name": "base",
   "language": "python",
   "name": "python3"
  },
  "language_info": {
   "codemirror_mode": {
    "name": "ipython",
    "version": 3
   },
   "file_extension": ".py",
   "mimetype": "text/x-python",
   "name": "python",
   "nbconvert_exporter": "python",
   "pygments_lexer": "ipython3",
   "version": "3.10.13"
  }
 },
 "nbformat": 4,
 "nbformat_minor": 2
}

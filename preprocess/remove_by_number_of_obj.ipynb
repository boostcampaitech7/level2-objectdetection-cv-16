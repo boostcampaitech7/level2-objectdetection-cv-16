{
 "cells": [
  {
   "cell_type": "code",
   "execution_count": 1,
   "metadata": {},
   "outputs": [],
   "source": [
    "import json\n",
    "import matplotlib.pyplot as plt\n",
    "import os"
   ]
  },
  {
   "cell_type": "code",
   "execution_count": 2,
   "metadata": {},
   "outputs": [],
   "source": [
    "ylim = [0, 10] # 이미지 개수 plot 띄울 때 y 범위\n",
    "json_name = 'hobbang.json' # 새로 만들 json 파일 이름\n",
    "origin_json_path = '../dataset/train.json'     # train.json 위치\n",
    "num_of_obj = 40 # 한 이미지에 num_of_obj개 이상의 객체가 포함되어 있으면 삭제하겠다."
   ]
  },
  {
   "cell_type": "code",
   "execution_count": 3,
   "metadata": {},
   "outputs": [],
   "source": [
    "json_data = None\n",
    "lst = [0]*4885 # lst: 이미지 번호가 인덱스, 객체의 개수가 요소\n",
    "\n",
    "with open(origin_json_path, 'r') as f:\n",
    "    json_data = json.load(f)\n",
    "\n",
    "for annot in json_data['annotations']:\n",
    "    lst[annot['image_id']] += 1\n",
    "\n",
    "counts = [0]*(max(lst)+1) # counts: 이미지 내에 존재하는 객체의 개수가 인덱스, [index]개의 요소를 가진 이미지의 개수가 요소\n",
    "\n",
    "for i in lst:\n",
    "    if i == 0:\n",
    "        continue\n",
    "    else:\n",
    "        counts[i] += 1"
   ]
  },
  {
   "cell_type": "code",
   "execution_count": 4,
   "metadata": {},
   "outputs": [
    {
     "data": {
      "image/png": "[encoded data removed]",
      "text/plain": [
       "<Figure size 640x480 with 1 Axes>"
      ]
     },
     "metadata": {},
     "output_type": "display_data"
    }
   ],
   "source": [
    "# x개의 object를 가진 이미지 y개 확인\n",
    "plt.bar([i for i in range(max(lst)+1)], counts)\n",
    "plt.ylim(ylim)\n",
    "plt.xlim([-1, 72])\n",
    "plt.xlabel('num of object')\n",
    "plt.ylabel('num of image')\n",
    "plt.show()"
   ]
  },
  {
   "cell_type": "code",
   "execution_count": 12,
   "metadata": {},
   "outputs": [
    {
     "name": "stdout",
     "output_type": "stream",
     "text": [
      "40개의 객체를 가진 이미지의 개수 3: 2521, 3825, 4778, \n",
      "41개의 객체를 가진 이미지의 개수 1: 4841, \n",
      "42개의 객체를 가진 이미지의 개수 2: 1797, 4492, \n",
      "44개의 객체를 가진 이미지의 개수 1: 1678, \n",
      "46개의 객체를 가진 이미지의 개수 3: 1955, 2416, 2981, \n",
      "48개의 객체를 가진 이미지의 개수 1: 394, \n",
      "52개의 객체를 가진 이미지의 개수 1: 4047, \n",
      "55개의 객체를 가진 이미지의 개수 1: 946, \n",
      "71개의 객체를 가진 이미지의 개수 1: 4197, \n",
      "653\n"
     ]
    }
   ],
   "source": [
    "remove_ids = []\n",
    "for i in range(num_of_obj, max(lst)+1): # i == 객체의 개수, counts[i] == i개의 객체를 가진 이미지의 개수, lst[i] == i번 이미지가 가진 객체의 개수\n",
    "    if counts[i] == 0:\n",
    "        continue\n",
    "    print(f'{i}개의 객체를 가진 이미지의 개수 {counts[i]}:', end=' ')\n",
    "    num = counts[i]\n",
    "    start = 0\n",
    "    while num > 0:\n",
    "        now = lst[start:].index(i)\n",
    "        print(now+start, end=', ')\n",
    "        remove_ids.append(now+start)\n",
    "        start+=now+1\n",
    "        num-=1\n",
    "    print()"
   ]
  },
  {
   "cell_type": "code",
   "execution_count": 6,
   "metadata": {},
   "outputs": [],
   "source": [
    "# json 생성\n",
    "new_json = {\n",
    "    'info': json_data['info'], \n",
    "    'licenses': json_data['licenses'], \n",
    "    'categories': json_data['categories'], \n",
    "    'images': [], \n",
    "    'annotations': []\n",
    "}\n",
    "\n",
    "for image in json_data['images']:\n",
    "    if image['id'] in remove_ids:\n",
    "        continue\n",
    "    else:\n",
    "        new_json['images'].append(image)\n",
    "\n",
    "for annot in json_data['annotations']:\n",
    "    if annot['image_id'] in remove_ids:\n",
    "        continue\n",
    "    else:\n",
    "        new_json['annotations'].append(annot)\n",
    "\n",
    "with open(os.path.join('../dataset/', json_name), 'w') as f:\n",
    "    f.write(json.dumps(new_json, ensure_ascii=False, indent='\\t'))\n",
    "f.close()"
   ]
  }
 ],
 "metadata": {
  "kernelspec": {
   "display_name": "base",
   "language": "python",
   "name": "python3"
  },
  "language_info": {
   "codemirror_mode": {
    "name": "ipython",
    "version": 3
   },
   "file_extension": ".py",
   "mimetype": "text/x-python",
   "name": "python",
   "nbconvert_exporter": "python",
   "pygments_lexer": "ipython3",
   "version": "3.10.13"
  }
 },
 "nbformat": 4,
 "nbformat_minor": 2
}
